{
 "cells": [
  {
   "cell_type": "markdown",
   "metadata": {},
   "source": [
    "Imports"
   ]
  },
  {
   "cell_type": "code",
   "execution_count": 1,
   "metadata": {},
   "outputs": [
    {
     "name": "stdout",
     "output_type": "stream",
     "text": [
      "cuda\n",
      "cuda\n"
     ]
    }
   ],
   "source": [
    "import f90nml\n",
    "import numpy as np\n",
    "from pint import UnitRegistry; AssignQuantity = UnitRegistry().Quantity\n",
    "import os\n",
    "import reference_solution as refsol\n",
    "from scipy.fft import rfft\n",
    "import torch\n",
    "import torch.nn as nn\n",
    "import torch.nn.functional as F\n",
    "import torch.optim as optim\n",
    "import icepinn as ip\n",
    "\n",
    "torch.set_default_dtype(torch.float64)\n",
    "device = torch.device('cuda' if torch.cuda.is_available() else 'cpu')\n",
    "print(device)\n",
    "\n",
    "device = ip.get_device()"
   ]
  },
  {
   "cell_type": "code",
   "execution_count": 2,
   "metadata": {},
   "outputs": [],
   "source": [
    "# Read in GI parameters\n",
    "inputfile = \"GI parameters - Reference limit cycle (for testing).nml\"\n",
    "GI=f90nml.read(inputfile)['GI']\n",
    "nx_crystal = GI['nx_crystal']\n",
    "L = GI['L']\n",
    "NBAR = GI['Nbar']\n",
    "NSTAR = GI['Nstar']\n",
    "\n",
    "# Define t range (needs to be same as training file)\n",
    "RUNTIME = 5\n",
    "NUM_T_STEPS = RUNTIME*5 + 1\n",
    "\n",
    "# Define initial conditions\n",
    "Ntot_init = np.ones(nx_crystal)\n",
    "Nqll_init = ip.get_Nqll(Ntot_init)\n",
    "\n",
    "# Define x, t pairs for training\n",
    "X_QLC = np.linspace(-L,L,nx_crystal)\n",
    "t_points = np.linspace(0, RUNTIME, NUM_T_STEPS)\n",
    "x, t = np.meshgrid(X_QLC, t_points)\n",
    "training_set = torch.tensor(np.column_stack((x.flatten(), t.flatten()))).to(device)"
   ]
  },
  {
   "cell_type": "code",
   "execution_count": 3,
   "metadata": {},
   "outputs": [],
   "source": [
    "# Define model attributes; instantiate model\n",
    "model_dimensions = torch.tensor([8, 80]).to(device)\n",
    "is_sf_PINN = torch.tensor(True)\n",
    "model = ip.IcePINN(\n",
    "\tnum_hidden_layers=model_dimensions[0], \n",
    "\thidden_layer_size=model_dimensions[0],\n",
    "\tis_sf_PINN=is_sf_PINN.item()).to(device)\n",
    "\n",
    "# Attach model attributes as buffers so they can be saved and loaded\n",
    "model.register_buffer('dimensions', model_dimensions)\n",
    "model.register_buffer('is_sf_PINN', is_sf_PINN)\n",
    "\n",
    "# Initialize model weights with HE initialization\n",
    "def init_HE(m):\n",
    "\t\tif type(m) == nn.Linear:\n",
    "\t\t\tnn.init.kaiming_normal_(m.weight)\n",
    "model.apply(init_HE)\n",
    "\n",
    "optimizer = torch.optim.Adam(model.parameters(), lr=0.001)"
   ]
  },
  {
   "cell_type": "code",
   "execution_count": 4,
   "metadata": {},
   "outputs": [
    {
     "name": "stdout",
     "output_type": "stream",
     "text": [
      "torch.Size([8320, 2])\n",
      "torch.Size([8320, 2])\n",
      "torch.Size([8320, 2])\n"
     ]
    }
   ],
   "source": [
    "print(training_set.shape)\n",
    "print(ip.calc_cp_loss(model, training_set, ip.get_misc_params(), 10, 1, 1, False).shape)\n",
    "print(ip.enforced_model(training_set, model).shape)"
   ]
  },
  {
   "cell_type": "markdown",
   "metadata": {},
   "source": [
    "Train model"
   ]
  },
  {
   "cell_type": "code",
   "execution_count": 5,
   "metadata": {},
   "outputs": [
    {
     "name": "stdout",
     "output_type": "stream",
     "text": [
      "Commencing PINN training for 100000 epochs.\n",
      "Loss at epoch [2500/100000]: Ntot = 3664621.603, Nqll = 709125.894.\n",
      "Loss at epoch [5000/100000]: Ntot = 3143277.069, Nqll = 161284.453.\n",
      "Loss at epoch [7500/100000]: Ntot = 3193804.412, Nqll = 107407.177.\n",
      "Loss at epoch [10000/100000]: Ntot = 3271224.107, Nqll = 112087.735.\n",
      "Loss at epoch [12500/100000]: Ntot = 1042432.690, Nqll = 52743.568.\n",
      "Loss at epoch [15000/100000]: Ntot = 833106.070, Nqll = 183962.174.\n",
      "Loss at epoch [17500/100000]: Ntot = 768356.931, Nqll = 166522.075.\n",
      "Loss at epoch [20000/100000]: Ntot = 712309.605, Nqll = 157763.136.\n",
      "Loss at epoch [22500/100000]: Ntot = 651121.990, Nqll = 137999.885.\n",
      "Loss at epoch [25000/100000]: Ntot = 694956.173, Nqll = 151152.165.\n",
      "Loss at epoch [27500/100000]: Ntot = 688623.919, Nqll = 156523.017.\n",
      "Loss at epoch [30000/100000]: Ntot = 754104.466, Nqll = 169974.494.\n",
      "Loss at epoch [32500/100000]: Ntot = 768709.646, Nqll = 172686.379.\n",
      "Loss at epoch [35000/100000]: Ntot = 775977.938, Nqll = 172839.736.\n",
      "Loss at epoch [37500/100000]: Ntot = 773712.699, Nqll = 172844.137.\n",
      "Loss at epoch [40000/100000]: Ntot = 793385.767, Nqll = 177077.497.\n",
      "Loss at epoch [42500/100000]: Ntot = 811119.340, Nqll = 183340.136.\n",
      "Loss at epoch [45000/100000]: Ntot = 840922.926, Nqll = 189188.186.\n",
      "Loss at epoch [47500/100000]: Ntot = 849449.529, Nqll = 189078.714.\n",
      "Loss at epoch [50000/100000]: Ntot = 873601.103, Nqll = 194475.280.\n",
      "Loss at epoch [52500/100000]: Ntot = 882874.601, Nqll = 197383.432.\n"
     ]
    }
   ],
   "source": [
    "MODEL_NAME = \"TestPINN_hard_enforced_SF\"\n",
    "PATH = './models/'+MODEL_NAME\n",
    "\n",
    "ip.train_IcePINN(\n",
    "    model, \n",
    "    optimizer, \n",
    "    training_set, \n",
    "    epochs=100_000, \n",
    "    save_path=PATH, \n",
    "    print_every=2_500, \n",
    "    print_gradients=False)"
   ]
  }
 ],
 "metadata": {
  "kernelspec": {
   "display_name": "venv",
   "language": "python",
   "name": "python3"
  },
  "language_info": {
   "codemirror_mode": {
    "name": "ipython",
    "version": 3
   },
   "file_extension": ".py",
   "mimetype": "text/x-python",
   "name": "python",
   "nbconvert_exporter": "python",
   "pygments_lexer": "ipython3",
   "version": "3.9.13"
  }
 },
 "nbformat": 4,
 "nbformat_minor": 2
}
