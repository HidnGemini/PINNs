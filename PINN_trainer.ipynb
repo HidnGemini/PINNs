{
 "cells": [
  {
   "cell_type": "markdown",
   "metadata": {},
   "source": [
    "Imports"
   ]
  },
  {
   "cell_type": "code",
   "execution_count": 1,
   "metadata": {},
   "outputs": [
    {
     "name": "stdout",
     "output_type": "stream",
     "text": [
      "cuda\n",
      "1\n",
      "cuda\n"
     ]
    }
   ],
   "source": [
    "import f90nml\n",
    "import numpy as np\n",
    "from pint import UnitRegistry; AssignQuantity = UnitRegistry().Quantity\n",
    "import os\n",
    "import reference_solution as refsol\n",
    "from scipy.fft import rfft\n",
    "import torch\n",
    "import torch.nn as nn\n",
    "import torch.nn.functional as F\n",
    "import torch.optim as optim\n",
    "import icepinn as ip\n",
    "\n",
    "torch.set_default_dtype(torch.float64)\n",
    "print(torch.cuda.device_count())\n",
    "device = torch.device('cuda' if torch.cuda.is_available() else 'cpu')\n",
    "print(device)\n",
    "\n",
    "device = ip.get_device()"
   ]
  },
  {
   "cell_type": "code",
   "execution_count": 2,
   "metadata": {},
   "outputs": [],
   "source": [
    "# Read in GI parameters\n",
    "inputfile = \"GI parameters - Reference limit cycle (for testing).nml\"\n",
    "GI=f90nml.read(inputfile)['GI']\n",
    "nx_crystal = GI['nx_crystal']\n",
    "L = GI['L']\n",
    "NBAR = GI['Nbar']\n",
    "NSTAR = GI['Nstar']\n",
    "\n",
    "# Define t range (needs to be same as training file)\n",
    "RUNTIME = 5\n",
    "NUM_T_STEPS = RUNTIME + 1\n",
    "#NUM_T_STEPS = RUNTIME*5 + 1\n",
    "\n",
    "# Define initial conditions\n",
    "Ntot_init = np.ones(nx_crystal)\n",
    "Nqll_init = ip.get_Nqll(Ntot_init)\n",
    "\n",
    "# Define x, t pairs for training\n",
    "X_QLC = np.linspace(-L,L,nx_crystal)\n",
    "t_points = np.linspace(0, RUNTIME, NUM_T_STEPS)\n",
    "x, t = np.meshgrid(X_QLC, t_points)\n",
    "training_set = torch.tensor(np.column_stack((x.flatten(), t.flatten()))).to(device)"
   ]
  },
  {
   "cell_type": "code",
   "execution_count": 3,
   "metadata": {},
   "outputs": [],
   "source": [
    "# Define model attributes; instantiate model\n",
    "model_dimensions = torch.tensor([8, 16]).to(device)\n",
    "is_sf_PINN = torch.tensor(False)\n",
    "model1 = ip.IcePINN(\n",
    "\tnum_hidden_layers=model_dimensions[0], \n",
    "\thidden_layer_size=model_dimensions[1],\n",
    "\tis_sf_PINN=is_sf_PINN.item()).to(device)\n",
    "\n",
    "# Attach model attributes as buffers so they can be saved and loaded\n",
    "model1.register_buffer('dimensions', model_dimensions)\n",
    "model1.register_buffer('is_sf_PINN', is_sf_PINN)\n",
    "\n",
    "# Initialize model weights with HE initialization\n",
    "model1.apply(ip.init_HE)\n",
    "\n",
    "optimizer = torch.optim.AdamW(model1.parameters(), lr=1e-5)\n",
    "\n",
    "# Define learning rate scheduling scheme\n",
    "scheduler_summed = optim.lr_scheduler.ReduceLROnPlateau(\n",
    "        optimizer, mode='min', factor=0.5, patience=10000\n",
    "    )"
   ]
  },
  {
   "cell_type": "code",
   "execution_count": 4,
   "metadata": {},
   "outputs": [
    {
     "name": "stdout",
     "output_type": "stream",
     "text": [
      "HE_16wide_nodiff\n",
      "torch.Size([1920, 2])\n",
      "torch.Size([1920, 2])\n",
      "torch.Size([1920, 2])\n",
      "IcePINN(\n",
      "  (sml): SinusoidalMappingLayer()\n",
      "  (post_sml): Linear(in_features=48, out_features=16, bias=True)\n",
      "  (sin): SinActivation()\n",
      "  (fc_in): Linear(in_features=2, out_features=16, bias=True)\n",
      "  (post_fc_in): Linear(in_features=16, out_features=16, bias=True)\n",
      "  (fc_hidden): ModuleList(\n",
      "    (0-5): 6 x Linear(in_features=16, out_features=16, bias=True)\n",
      "  )\n",
      "  (fc_out): Linear(in_features=16, out_features=2, bias=True)\n",
      ")\n"
     ]
    }
   ],
   "source": [
    "MODEL_NAME = \"HE_16wide_nodiff\"\n",
    "print(MODEL_NAME)\n",
    "print(training_set.shape)\n",
    "print(ip.calc_cp_loss(model1, training_set, ip.get_misc_params(), 10, 1, 1, False, False).shape)\n",
    "print(ip.enforced_model(training_set, model1).shape)\n",
    "print(model1)"
   ]
  },
  {
   "cell_type": "markdown",
   "metadata": {},
   "source": [
    "Train model"
   ]
  },
  {
   "cell_type": "code",
   "execution_count": 6,
   "metadata": {},
   "outputs": [
    {
     "name": "stdout",
     "output_type": "stream",
     "text": [
      "Commencing PINN training on 1920 points for 100000 epochs.\n",
      "Epoch [1k/100k] at 0m 10s: Ntot = 988.172, Nqll = 173.996, LR = 1e-05\n",
      "Epoch [2k/100k] at 0m 20s: Ntot = 1010.521, Nqll = 164.417, LR = 1e-05\n",
      "Epoch [3k/100k] at 0m 29s: Ntot = 1025.103, Nqll = 160.719, LR = 1e-05\n",
      "Epoch [4k/100k] at 0m 37s: Ntot = 1034.273, Nqll = 160.441, LR = 1e-05\n",
      "Epoch [5k/100k] at 0m 44s: Ntot = 1052.674, Nqll = 164.185, LR = 1e-05\n",
      "Epoch [6k/100k] at 0m 50s: Ntot = 1080.910, Nqll = 172.616, LR = 1e-05\n",
      "Epoch [7k/100k] at 0m 56s: Ntot = 1095.320, Nqll = 180.925, LR = 1e-05\n",
      "Epoch [8k/100k] at 1m 2s: Ntot = 1084.001, Nqll = 182.407, LR = 1e-05\n",
      "Epoch [9k/100k] at 1m 10s: Ntot = 1034.580, Nqll = 173.525, LR = 1e-05\n",
      "Epoch [10k/100k] at 1m 17s: Ntot = 995.731, Nqll = 163.079, LR = 1e-05\n",
      "Epoch [11k/100k] at 1m 25s: Ntot = 971.013, Nqll = 157.215, LR = 1e-05\n",
      "Epoch [12k/100k] at 1m 36s: Ntot = 936.200, Nqll = 149.711, LR = 1e-05\n",
      "Epoch [13k/100k] at 1m 46s: Ntot = 892.919, Nqll = 140.114, LR = 1e-05\n",
      "Epoch [14k/100k] at 1m 54s: Ntot = 910.401, Nqll = 145.111, LR = 1e-05\n",
      "Epoch [15k/100k] at 2m 1s: Ntot = 897.955, Nqll = 144.532, LR = 1e-05\n",
      "Epoch [16k/100k] at 2m 7s: Ntot = 897.657, Nqll = 144.761, LR = 1e-05\n",
      "Epoch [17k/100k] at 2m 14s: Ntot = 919.010, Nqll = 149.873, LR = 1e-05\n",
      "Epoch [18k/100k] at 2m 21s: Ntot = 931.008, Nqll = 152.264, LR = 1e-05\n",
      "Epoch [19k/100k] at 2m 27s: Ntot = 936.534, Nqll = 152.609, LR = 1e-05\n",
      "Epoch [20k/100k] at 2m 34s: Ntot = 963.760, Nqll = 158.332, LR = 1e-05\n",
      "Epoch [21k/100k] at 2m 41s: Ntot = 1014.501, Nqll = 169.259, LR = 1e-05\n",
      "Epoch [22k/100k] at 2m 47s: Ntot = 1018.374, Nqll = 171.363, LR = 1e-05\n"
     ]
    }
   ],
   "source": [
    "ip.train_IcePINN(\n",
    "    model=model1, \n",
    "    optimizer=optimizer, \n",
    "    training_set=training_set, \n",
    "    epochs=100_000, \n",
    "    name=MODEL_NAME, \n",
    "    print_every=1_000, \n",
    "    print_gradients=False,\n",
    "    diffusion=False,\n",
    "    LR_scheduler=None)"
   ]
  },
  {
   "cell_type": "code",
   "execution_count": null,
   "metadata": {},
   "outputs": [],
   "source": [
    "# Instantiate model2 as best version of model1\n",
    "# model2 = ip.load_IcePINN(MODEL_NAME)\n",
    "# model2.train()\n",
    "# optimizer2 = torch.optim.AdamW(model2.parameters(), lr=1e-6)"
   ]
  },
  {
   "cell_type": "markdown",
   "metadata": {},
   "source": [
    "Train again on smaller LR starting from saved checkpoint (best saved model above)"
   ]
  },
  {
   "cell_type": "code",
   "execution_count": null,
   "metadata": {},
   "outputs": [],
   "source": [
    "# ip.train_IcePINN(\n",
    "#     model=model2, \n",
    "#     optimizer=optimizer2, \n",
    "#     training_set=training_set, \n",
    "#     epochs=100_000, \n",
    "#     name=MODEL_NAME+\"_round2\", \n",
    "#     print_every=1_000, \n",
    "#     print_gradients=False,\n",
    "#     diffusion=True,\n",
    "#     LR_scheduler=None)"
   ]
  }
 ],
 "metadata": {
  "kernelspec": {
   "display_name": "venv",
   "language": "python",
   "name": "python3"
  },
  "language_info": {
   "codemirror_mode": {
    "name": "ipython",
    "version": 3
   },
   "file_extension": ".py",
   "mimetype": "text/x-python",
   "name": "python",
   "nbconvert_exporter": "python",
   "pygments_lexer": "ipython3",
   "version": "3.9.13"
  }
 },
 "nbformat": 4,
 "nbformat_minor": 2
}
