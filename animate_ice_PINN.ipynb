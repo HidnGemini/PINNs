{
 "cells": [
  {
   "cell_type": "code",
   "execution_count": null,
   "metadata": {},
   "outputs": [],
   "source": [
    "%matplotlib ipympl \n",
    "import animate_ice_PINN as ani\n",
    "# Must restart kernel if the ani library or the %matplotlib magic fn are changed\n",
    "\n",
    "MODEL_NAME = \"HE_128wide_nodiff_2rt_100x\"\n",
    "print(MODEL_NAME)\n",
    "\n",
    "# TODO - currently plotting soft-enforced models as if they are hard enforced"
   ]
  },
  {
   "cell_type": "markdown",
   "metadata": {},
   "source": [
    "On-demand QLC-model animations. 0 = Ntot, 1 = Nqll, 2 = N-ice"
   ]
  },
  {
   "cell_type": "code",
   "execution_count": null,
   "metadata": {},
   "outputs": [],
   "source": [
    "ani.animate_refsol(0, frame_interval=20, with_diffusion=False)"
   ]
  },
  {
   "cell_type": "code",
   "execution_count": null,
   "metadata": {},
   "outputs": [],
   "source": [
    "ani.animate_IcePINN(MODEL_NAME, 2, frame_interval=50)"
   ]
  },
  {
   "cell_type": "code",
   "execution_count": null,
   "metadata": {},
   "outputs": [],
   "source": [
    "ani.animate_IcePINN(MODEL_NAME+\"_round2\", 0, frame_interval=50)"
   ]
  },
  {
   "cell_type": "markdown",
   "metadata": {},
   "source": [
    "For first two params of animate_together: \n",
    "- String model name for model\n",
    "- True for reference solution with diffusion\n",
    "- False for reference solution without diffusion"
   ]
  },
  {
   "cell_type": "code",
   "execution_count": null,
   "metadata": {},
   "outputs": [],
   "source": [
    "ani.animate_together(True, True, 0, index2 = 2, frame_interval=50, file_name=\"test_ani\")"
   ]
  },
  {
   "cell_type": "code",
   "execution_count": null,
   "metadata": {},
   "outputs": [],
   "source": [
    "ani.animate_together(MODEL_NAME, MODEL_NAME+\"_round2\", 0, frame_interval=1000)"
   ]
  }
 ],
 "metadata": {
  "kernelspec": {
   "display_name": "ice_venv",
   "language": "python",
   "name": "python3"
  },
  "language_info": {
   "codemirror_mode": {
    "name": "ipython",
    "version": 3
   },
   "file_extension": ".py",
   "mimetype": "text/x-python",
   "name": "python",
   "nbconvert_exporter": "python",
   "pygments_lexer": "ipython3",
   "version": "3.9.13"
  }
 },
 "nbformat": 4,
 "nbformat_minor": 2
}
